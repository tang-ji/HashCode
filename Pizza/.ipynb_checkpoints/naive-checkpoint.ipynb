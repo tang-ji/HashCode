{
 "cells": [
  {
   "cell_type": "code",
   "execution_count": 18,
   "metadata": {
    "collapsed": true
   },
   "outputs": [],
   "source": [
    "option = 0\n",
    "inputs = ['a_example.in', 'b_small.in', 'c_medium.in', 'd_big.in']\n",
    "file = open(inputs[option], 'r')"
   ]
  },
  {
   "cell_type": "code",
   "execution_count": 19,
   "metadata": {
    "collapsed": true
   },
   "outputs": [],
   "source": [
    "[r, c, l ,h] = [int(i) for i in file.readline().split()]"
   ]
  },
  {
   "cell_type": "code",
   "execution_count": 20,
   "metadata": {},
   "outputs": [],
   "source": [
    "p = [i.strip() for i in file.readlines()]\n",
    "p = [[i for i in j] for j in p]"
   ]
  },
  {
   "cell_type": "code",
   "execution_count": 63,
   "metadata": {},
   "outputs": [],
   "source": [
    "import numpy as np\n",
    "class Pizza:\n",
    "    def __init__(self, p, l, h):\n",
    "        self.matrix = np.array(p)\n",
    "        self.l = l\n",
    "        self.h = h\n",
    "        self.r = len(p)\n",
    "        self.c = len(p[0])\n",
    "        self.available = np.ones_like(p)\n",
    "    def cutSlice(self, point1, point2):\n",
    "        a, b = max(0, point1[0]), max(0, point1[1])\n",
    "        c, d = min(self.r, point2[0]), min(self.c, point2[1])\n",
    "        self.available[a:c, b:d] = 0\n",
    "        return self.matrix[a:c, b:d]\n",
    "    def show(self):\n",
    "        ret = ''\n",
    "        for i in range(len(self.matrix)):\n",
    "            for j in range(len(self.matrix[0])):\n",
    "                if self.available[i][j] == '1':\n",
    "                    ret += self.matrix[i][j]\n",
    "                else:\n",
    "                    ret += ' '\n",
    "            ret += '\\n'\n",
    "        print(ret)\n",
    "        "
   ]
  },
  {
   "cell_type": "code",
   "execution_count": 64,
   "metadata": {},
   "outputs": [],
   "source": [
    "P = Pizza(p, l, h)"
   ]
  },
  {
   "cell_type": "code",
   "execution_count": 65,
   "metadata": {},
   "outputs": [
    {
     "data": {
      "text/plain": [
       "array([['1', '1', '1', '1', '1'],\n",
       "       ['1', '1', '1', '1', '1'],\n",
       "       ['1', '1', '1', '1', '1']], dtype='<U1')"
      ]
     },
     "execution_count": 65,
     "metadata": {},
     "output_type": "execute_result"
    }
   ],
   "source": [
    "P.available"
   ]
  },
  {
   "cell_type": "code",
   "execution_count": 66,
   "metadata": {},
   "outputs": [
    {
     "data": {
      "text/plain": [
       "array([['T', 'T'],\n",
       "       ['M', 'M']], dtype='<U1')"
      ]
     },
     "execution_count": 66,
     "metadata": {},
     "output_type": "execute_result"
    }
   ],
   "source": [
    "P.cutSlice([0,1], [2,3])"
   ]
  },
  {
   "cell_type": "code",
   "execution_count": 67,
   "metadata": {},
   "outputs": [
    {
     "data": {
      "text/plain": [
       "array([['1', '0', '0', '1', '1'],\n",
       "       ['1', '0', '0', '1', '1'],\n",
       "       ['1', '1', '1', '1', '1']], dtype='<U1')"
      ]
     },
     "execution_count": 67,
     "metadata": {},
     "output_type": "execute_result"
    }
   ],
   "source": [
    "P.available"
   ]
  },
  {
   "cell_type": "code",
   "execution_count": 69,
   "metadata": {},
   "outputs": [
    {
     "name": "stdout",
     "output_type": "stream",
     "text": [
      "T  TT\n",
      "T  MT\n",
      "TTTTT\n",
      "\n"
     ]
    }
   ],
   "source": [
    "P.show()"
   ]
  },
  {
   "cell_type": "code",
   "execution_count": null,
   "metadata": {
    "collapsed": true
   },
   "outputs": [],
   "source": []
  }
 ],
 "metadata": {
  "kernelspec": {
   "display_name": "Python 3",
   "language": "python",
   "name": "python3"
  },
  "language_info": {
   "codemirror_mode": {
    "name": "ipython",
    "version": 3
   },
   "file_extension": ".py",
   "mimetype": "text/x-python",
   "name": "python",
   "nbconvert_exporter": "python",
   "pygments_lexer": "ipython3",
   "version": "3.6.5"
  }
 },
 "nbformat": 4,
 "nbformat_minor": 2
}
